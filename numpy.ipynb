{
 "cells": [
  {
   "cell_type": "code",
   "execution_count": 1,
   "metadata": {},
   "outputs": [],
   "source": [
    "import numpy as np"
   ]
  },
  {
   "cell_type": "code",
   "execution_count": 2,
   "metadata": {},
   "outputs": [
    {
     "name": "stdout",
     "output_type": "stream",
     "text": [
      "[1 2 3]\n"
     ]
    }
   ],
   "source": [
    "oneDarray = np.array([1,2,3])\n",
    "print(oneDarray) # similar to list"
   ]
  },
  {
   "cell_type": "code",
   "execution_count": 3,
   "metadata": {},
   "outputs": [
    {
     "name": "stdout",
     "output_type": "stream",
     "text": [
      "[[1 2 3]\n",
      " [4 5 6]]\n"
     ]
    }
   ],
   "source": [
    "twoDarray = np.array([[1,2,3],[4,5,6]])\n",
    "print(twoDarray) # similar to table with rows and columns"
   ]
  },
  {
   "cell_type": "code",
   "execution_count": 4,
   "metadata": {},
   "outputs": [
    {
     "name": "stdout",
     "output_type": "stream",
     "text": [
      "6\n"
     ]
    }
   ],
   "source": [
    "print(twoDarray[1,2])"
   ]
  },
  {
   "cell_type": "code",
   "execution_count": 5,
   "metadata": {},
   "outputs": [
    {
     "name": "stdout",
     "output_type": "stream",
     "text": [
      "[[[ 1  2  3]\n",
      "  [-1 -2 -3]]\n",
      "\n",
      " [[ 4  5  6]\n",
      "  [-4 -5 -6]]]\n"
     ]
    }
   ],
   "source": [
    "threeDarray = np.array([[[1,2,3],[-1,-2,-3]],[[4,5,6],[-4,-5,-6]]])\n",
    "print(threeDarray) # 2 Two-Dimension Arrays gives me one Three-Dimension Array. "
   ]
  },
  {
   "cell_type": "code",
   "execution_count": 6,
   "metadata": {},
   "outputs": [
    {
     "name": "stdout",
     "output_type": "stream",
     "text": [
      "[[ 1  2  3]\n",
      " [-1 -2 -3]]\n"
     ]
    }
   ],
   "source": [
    "print(threeDarray[0])"
   ]
  },
  {
   "cell_type": "code",
   "execution_count": 7,
   "metadata": {},
   "outputs": [
    {
     "name": "stdout",
     "output_type": "stream",
     "text": [
      "[-1 -2 -3]\n"
     ]
    }
   ],
   "source": [
    "print(threeDarray[0,1])"
   ]
  },
  {
   "cell_type": "code",
   "execution_count": 8,
   "metadata": {},
   "outputs": [
    {
     "name": "stdout",
     "output_type": "stream",
     "text": [
      "-1\n"
     ]
    }
   ],
   "source": [
    "print(threeDarray[0,1,0])"
   ]
  },
  {
   "cell_type": "code",
   "execution_count": 9,
   "metadata": {},
   "outputs": [
    {
     "name": "stdout",
     "output_type": "stream",
     "text": [
      "(2, 3)\n"
     ]
    }
   ],
   "source": [
    "shape = np.shape(twoDarray) # returns a tuple\n",
    "print(shape) # 2 Dimension array and 3 indexes"
   ]
  },
  {
   "cell_type": "code",
   "execution_count": 58,
   "metadata": {},
   "outputs": [
    {
     "name": "stdout",
     "output_type": "stream",
     "text": [
      "1\n",
      "2\n",
      "3\n",
      "4\n",
      "5\n",
      "6\n"
     ]
    }
   ],
   "source": [
    "# looping through two dimension numpy arrays\n",
    "\n",
    "twoDarray = np.array([[1,2,3],[4,5,6]])\n",
    "for i in twoDarray:\n",
    "    for j in i:\n",
    "        print(j)"
   ]
  },
  {
   "cell_type": "code",
   "execution_count": 60,
   "metadata": {},
   "outputs": [
    {
     "name": "stdout",
     "output_type": "stream",
     "text": [
      "[1 2 3]\n",
      "[-1 -2 -3]\n",
      "[4 5 6]\n",
      "[-4 -5 -6]\n"
     ]
    }
   ],
   "source": [
    "# looping through three dimension numpy arrays\n",
    "\n",
    "threeDarray = np.array([[[1,2,3],[-1,-2,-3]], [[4,5,6],[-4,-5,-6]]])\n",
    "for i in threeDarray:\n",
    "    for j in i:\n",
    "        print(j)\n"
   ]
  },
  {
   "cell_type": "code",
   "execution_count": 12,
   "metadata": {},
   "outputs": [
    {
     "name": "stdout",
     "output_type": "stream",
     "text": [
      "1\n",
      "2\n",
      "3\n",
      "-1\n",
      "-2\n",
      "-3\n",
      "4\n",
      "5\n",
      "6\n",
      "-4\n",
      "-5\n",
      "-6\n"
     ]
    }
   ],
   "source": [
    "for i in threeDarray:\n",
    "    for j in i:\n",
    "        for k in j:\n",
    "            print(k)"
   ]
  },
  {
   "cell_type": "code",
   "execution_count": 13,
   "metadata": {},
   "outputs": [
    {
     "name": "stdout",
     "output_type": "stream",
     "text": [
      "[0. 0. 0. 0. 0. 0. 0. 0. 0. 0.]\n"
     ]
    }
   ],
   "source": [
    "zerosArray = np.zeros(10)\n",
    "print(zerosArray)"
   ]
  },
  {
   "cell_type": "code",
   "execution_count": 14,
   "metadata": {},
   "outputs": [
    {
     "name": "stdout",
     "output_type": "stream",
     "text": [
      "[0 0 0 0 0 0 0 0 0 0]\n"
     ]
    }
   ],
   "source": [
    "zerosArray = zerosArray.astype(int)\n",
    "print(zerosArray)"
   ]
  },
  {
   "cell_type": "code",
   "execution_count": 15,
   "metadata": {},
   "outputs": [
    {
     "name": "stdout",
     "output_type": "stream",
     "text": [
      "[1 1 1 1 1 1 1 1 1 1]\n"
     ]
    }
   ],
   "source": [
    "onesArray = np.ones(10) # ones array converted to integer.\n",
    "OnesArray = onesArray.astype(int)\n",
    "print(OnesArray)"
   ]
  },
  {
   "cell_type": "code",
   "execution_count": 16,
   "metadata": {},
   "outputs": [
    {
     "name": "stdout",
     "output_type": "stream",
     "text": [
      "[[3 4 5]\n",
      " [6 7 8]]\n"
     ]
    }
   ],
   "source": [
    "matrix = np.array([[1,2,3],[4,5,6]]) # 2-D Numpy array. \n",
    "newmatrix = (matrix + 2) # add 2 to each element of arrays. \n",
    "print (newmatrix)"
   ]
  },
  {
   "cell_type": "code",
   "execution_count": 17,
   "metadata": {},
   "outputs": [
    {
     "name": "stdout",
     "output_type": "stream",
     "text": [
      "[[-1  0  1]\n",
      " [ 2  3  4]]\n"
     ]
    }
   ],
   "source": [
    "matrix = np.array([[1,2,3],[4,5,6]]) # 2-D Numpy array. \n",
    "newmatrix = (matrix - 2) # subtract 2 to each element of arrays. \n",
    "print (newmatrix)"
   ]
  },
  {
   "cell_type": "code",
   "execution_count": 18,
   "metadata": {},
   "outputs": [
    {
     "name": "stdout",
     "output_type": "stream",
     "text": [
      "[[ 4 12  8]\n",
      " [ 2 16  6]]\n"
     ]
    }
   ],
   "source": [
    "tbl = np.array([[2,6,4], [1,8,3]])         # 2-D Numpy array. \n",
    "new_tbl = tbl * 2         # multiply 2 to each element in both arrays. \n",
    "print(new_tbl)"
   ]
  },
  {
   "cell_type": "code",
   "execution_count": 19,
   "metadata": {},
   "outputs": [
    {
     "name": "stdout",
     "output_type": "stream",
     "text": [
      "[[0.5 6.5 0.5]\n",
      " [3.  3.5 1.5]]\n"
     ]
    }
   ],
   "source": [
    "data = np.array([[1,13,1], [6,7,3]])\n",
    "operated_data = data / 2           # \"/\" is float division and \"//\" is integer division\n",
    "print(operated_data)"
   ]
  },
  {
   "cell_type": "code",
   "execution_count": 20,
   "metadata": {},
   "outputs": [
    {
     "name": "stdout",
     "output_type": "stream",
     "text": [
      "[[ 1  9  1]\n",
      " [36 49 16]]\n"
     ]
    }
   ],
   "source": [
    "data = np.array([[1,3,1], [6,7,4]])\n",
    "operated_data = data ** 2           # squaring the elements in arrays.\n",
    "print(operated_data)"
   ]
  },
  {
   "cell_type": "code",
   "execution_count": 61,
   "metadata": {},
   "outputs": [
    {
     "name": "stdout",
     "output_type": "stream",
     "text": [
      "[[21 90]\n",
      " [54 53]\n",
      " [13 82]]\n"
     ]
    }
   ],
   "source": [
    "# Transposing means pairing of 0th element of 0th array with 0th element of the 1st array. \n",
    "\n",
    "data = np.array([[21,54,13], [90,53,82]])\n",
    "print(data.T)\n",
    "\n",
    "# 21 paired with 90, \n",
    "# 54 paired with 53, und so weiter. "
   ]
  },
  {
   "cell_type": "code",
   "execution_count": 22,
   "metadata": {},
   "outputs": [
    {
     "name": "stdout",
     "output_type": "stream",
     "text": [
      "[ 3 10  8]\n"
     ]
    }
   ],
   "source": [
    "matrix1 = np.array([3,9,5])\n",
    "matrix2 = np.array([0,1,3])\n",
    "new_matrix = matrix1 + matrix2\n",
    "print(new_matrix)           # Element-wise addition  "
   ]
  },
  {
   "cell_type": "code",
   "execution_count": 23,
   "metadata": {},
   "outputs": [
    {
     "name": "stdout",
     "output_type": "stream",
     "text": [
      "[3 8 2]\n"
     ]
    }
   ],
   "source": [
    "matrix1 = np.array([3,9,5])\n",
    "matrix2 = np.array([0,1,3])\n",
    "new_matrix = matrix1 - matrix2\n",
    "print(new_matrix)           # Element-wise subtraction"
   ]
  },
  {
   "cell_type": "code",
   "execution_count": 24,
   "metadata": {},
   "outputs": [
    {
     "name": "stdout",
     "output_type": "stream",
     "text": [
      "[24 18 15]\n"
     ]
    }
   ],
   "source": [
    "matrix1 = np.array([3,9,5])\n",
    "matrix2 = np.array([8,2,3])\n",
    "new_matrix = matrix1 * matrix2\n",
    "print(new_matrix)           # Element-wise multiplicaion  "
   ]
  },
  {
   "cell_type": "code",
   "execution_count": 25,
   "metadata": {},
   "outputs": [
    {
     "name": "stdout",
     "output_type": "stream",
     "text": [
      "[ 3 25  5]\n"
     ]
    }
   ],
   "source": [
    "matrix1 = np.array([24,50,15])\n",
    "matrix2 = np.array([8,2,3])\n",
    "new_matrix = matrix1 // matrix2      # integer division \n",
    "print(new_matrix)           # Element-wise division  "
   ]
  },
  {
   "cell_type": "code",
   "execution_count": 66,
   "metadata": {},
   "outputs": [
    {
     "name": "stdout",
     "output_type": "stream",
     "text": [
      "[[2 5 0]\n",
      " [5 1 9]\n",
      " [4 1 7]]\n",
      "[[8 2 3]\n",
      " [1 8 7]\n",
      " [1 3 8]]\n"
     ]
    },
    {
     "data": {
      "text/plain": [
       "array([[21, 44, 41],\n",
       "       [50, 45, 94],\n",
       "       [40, 37, 75]])"
      ]
     },
     "execution_count": 66,
     "metadata": {},
     "output_type": "execute_result"
    }
   ],
   "source": [
    "mat1 = np.array([[2,5,0],[5,1,9],[4,1,7]])\n",
    "print(mat1)\n",
    "mat2 = np.array([[8,2,3],[1,8,7],[1,3,8]])    \n",
    "print(mat2)                                   \n",
    "np.matmul(mat1, mat2) # multiplication of rows of 0th 2-D array with columns of 1st 2-D array. "
   ]
  },
  {
   "cell_type": "code",
   "execution_count": 45,
   "metadata": {},
   "outputs": [
    {
     "name": "stdout",
     "output_type": "stream",
     "text": [
      "12\n"
     ]
    }
   ],
   "source": [
    "# Statistics in Numpy\n",
    "\n",
    "stats1 = np.array([[24,892,18], [12,439,174]])\n",
    "print(np.min(stats1))            # minimum value in arrays"
   ]
  },
  {
   "cell_type": "code",
   "execution_count": 48,
   "metadata": {},
   "outputs": [
    {
     "name": "stdout",
     "output_type": "stream",
     "text": [
      "892\n"
     ]
    }
   ],
   "source": [
    "print(np.max(stats1))            # maximum value in arrays"
   ]
  },
  {
   "cell_type": "code",
   "execution_count": 49,
   "metadata": {},
   "outputs": [
    {
     "name": "stdout",
     "output_type": "stream",
     "text": [
      "259.8333333333333\n"
     ]
    }
   ],
   "source": [
    "print(np.average(stats1))         # average value "
   ]
  },
  {
   "cell_type": "code",
   "execution_count": 50,
   "metadata": {},
   "outputs": [
    {
     "name": "stdout",
     "output_type": "stream",
     "text": [
      "99.0\n"
     ]
    }
   ],
   "source": [
    "print(np.median(stats1))         # median "
   ]
  },
  {
   "cell_type": "code",
   "execution_count": 54,
   "metadata": {},
   "outputs": [
    {
     "name": "stdout",
     "output_type": "stream",
     "text": [
      "1559\n"
     ]
    }
   ],
   "source": [
    "print(np.sum(stats1))            # sum of all elements in array"
   ]
  },
  {
   "cell_type": "code",
   "execution_count": 56,
   "metadata": {},
   "outputs": [
    {
     "name": "stdout",
     "output_type": "stream",
     "text": [
      "320.0585449917284\n"
     ]
    }
   ],
   "source": [
    "print(np.std(stats1))           # standart deviation"
   ]
  }
 ],
 "metadata": {
  "kernelspec": {
   "display_name": "Python 3",
   "language": "python",
   "name": "python3"
  },
  "language_info": {
   "codemirror_mode": {
    "name": "ipython",
    "version": 3
   },
   "file_extension": ".py",
   "mimetype": "text/x-python",
   "name": "python",
   "nbconvert_exporter": "python",
   "pygments_lexer": "ipython3",
   "version": "3.12.1"
  }
 },
 "nbformat": 4,
 "nbformat_minor": 2
}
